{
  "cells": [
    {
      "cell_type": "markdown",
      "metadata": {
        "id": "view-in-github",
        "colab_type": "text"
      },
      "source": [
        "<a href=\"https://colab.research.google.com/github/PatWoo23/Data-Analysis/blob/main/DataQualityAssessment.ipynb\" target=\"_parent\"><img src=\"https://colab.research.google.com/assets/colab-badge.svg\" alt=\"Open In Colab\"/></a>"
      ]
    },
    {
      "cell_type": "code",
      "execution_count": null,
      "metadata": {
        "id": "CpQ1EG2krUTU"
      },
      "outputs": [],
      "source": [
        "import pandas as pd\n",
        "import matplotlib.pyplot as plt"
      ]
    },
    {
      "cell_type": "code",
      "execution_count": null,
      "metadata": {
        "id": "WC6bAxkDrUTY"
      },
      "outputs": [],
      "source": [
        "#Load the dataset\n",
        "onlinestore = pd.read_excel(r\"C:\\Users\\Administrator\\Desktop\\Sales.xlsx\")\n"
      ]
    },
    {
      "cell_type": "code",
      "execution_count": null,
      "metadata": {
        "id": "Bt5ocbwMrUTY",
        "outputId": "40253db4-f739-4b5d-9414-429f06770d86"
      },
      "outputs": [
        {
          "name": "stdout",
          "output_type": "stream",
          "text": [
            "    Order ID Order Date    Status  Item ID                  SKU  Quantity  \\\n",
            "0  100354678 2020-10-01  received   574772   oasis_Oasis-064-36        21   \n",
            "1  100354678 2020-10-01  received   574774      Fantastic_FT-48        11   \n",
            "2  100354680 2020-10-01  complete   574777      mdeal_DMC-610-8         9   \n",
            "3  100354680 2020-10-01  complete   574779   oasis_Oasis-061-36         9   \n",
            "4  100367357 2020-11-13  received   595185  MEFNAR59C38B6CA08CD         2   \n",
            "\n",
            "   Price  Original Sale  Sale After Discount       Category  ...  \\\n",
            "0   89.9         1798.0               1798.0  Men's Fashion  ...   \n",
            "1   19.0          190.0                190.0  Men's Fashion  ...   \n",
            "2  149.9         1199.2               1199.2  Men's Fashion  ...   \n",
            "3   79.9          639.2                639.2  Men's Fashion  ...   \n",
            "4   99.9           99.9                 99.9  Men's Fashion  ...   \n",
            "\n",
            "                 E Mail  Customer Since    Phone No.   County    City State  \\\n",
            "0  jani.titus@gmail.com      2006-08-22  405-959-1129  Harmon  Vinson    OK   \n",
            "1  jani.titus@gmail.com      2006-08-22  405-959-1129  Harmon  Vinson    OK   \n",
            "2  jani.titus@gmail.com      2006-08-22  405-959-1129  Harmon  Vinson    OK   \n",
            "3  jani.titus@gmail.com      2006-08-22  405-959-1129  Harmon  Vinson    OK   \n",
            "4  jani.titus@gmail.com      2006-08-22  405-959-1129  Harmon  Vinson    OK   \n",
            "\n",
            "  Zip Code Region User Name  Discount Percentage  \n",
            "0    73571  South   jwtitus                  0.0  \n",
            "1    73571  South   jwtitus                  0.0  \n",
            "2    73571  South   jwtitus                  0.0  \n",
            "3    73571  South   jwtitus                  0.0  \n",
            "4    73571  South   jwtitus                  0.0  \n",
            "\n",
            "[5 rows x 30 columns]\n"
          ]
        }
      ],
      "source": [
        "#Check the first 5 rows of the dataset\n",
        "print(onlinestore.head())"
      ]
    },
    {
      "cell_type": "markdown",
      "metadata": {
        "id": "ZK1_4LePrUTZ"
      },
      "source": [
        "# Data Preparation"
      ]
    },
    {
      "cell_type": "markdown",
      "metadata": {
        "id": "SCmVdzAnrUTb"
      },
      "source": [
        "## Check Missing Values\n",
        "No missing values in the dataset"
      ]
    },
    {
      "cell_type": "code",
      "execution_count": null,
      "metadata": {
        "id": "I9Di-UMfrUTb",
        "outputId": "3b433c07-19e9-437c-dbd0-9dc680be08bd"
      },
      "outputs": [
        {
          "name": "stdout",
          "output_type": "stream",
          "text": [
            "Order ID               0\n",
            "Order Date             0\n",
            "Status                 0\n",
            "Item ID                0\n",
            "SKU                    0\n",
            "Quantity               0\n",
            "Price                  0\n",
            "Original Sale          0\n",
            "Sale After Discount    0\n",
            "Category               0\n",
            "Payment Method         0\n",
            "Customer ID            0\n",
            "Year                   0\n",
            "Month                  0\n",
            "Reference Number       0\n",
            "Name Prefix            0\n",
            "First Name             0\n",
            "Last Name              0\n",
            "Gender                 0\n",
            "Age                    0\n",
            "E Mail                 0\n",
            "Customer Since         0\n",
            "Phone No.              0\n",
            "County                 0\n",
            "City                   0\n",
            "State                  0\n",
            "Zip Code               0\n",
            "Region                 0\n",
            "User Name              0\n",
            "Discount Percentage    0\n",
            "dtype: int64\n"
          ]
        }
      ],
      "source": [
        "#check if there are any missing values in the dataset\n",
        "print(onlinestore.isnull().sum())"
      ]
    },
    {
      "cell_type": "markdown",
      "metadata": {
        "id": "T_mLUumKrUTb"
      },
      "source": [
        "## Data Structure"
      ]
    },
    {
      "cell_type": "code",
      "execution_count": null,
      "metadata": {
        "id": "LpHJERGqrUTc",
        "outputId": "fd3ebf3f-4886-47be-821c-2578edabd8f5"
      },
      "outputs": [
        {
          "name": "stdout",
          "output_type": "stream",
          "text": [
            "Order ID                       object\n",
            "Order Date             datetime64[ns]\n",
            "Status                         object\n",
            "Item ID                         int64\n",
            "SKU                            object\n",
            "Quantity                        int64\n",
            "Price                         float64\n",
            "Original Sale                 float64\n",
            "Sale After Discount           float64\n",
            "Category                       object\n",
            "Payment Method                 object\n",
            "Customer ID                     int64\n",
            "Year                            int64\n",
            "Month                  datetime64[ns]\n",
            "Reference Number                int64\n",
            "Name Prefix                    object\n",
            "First Name                     object\n",
            "Last Name                      object\n",
            "Gender                         object\n",
            "Age                             int64\n",
            "E Mail                         object\n",
            "Customer Since         datetime64[ns]\n",
            "Phone No.                      object\n",
            "County                         object\n",
            "City                           object\n",
            "State                          object\n",
            "Zip Code                        int64\n",
            "Region                         object\n",
            "User Name                      object\n",
            "Discount Percentage           float64\n",
            "dtype: object\n"
          ]
        }
      ],
      "source": [
        "print(onlinestore.dtypes)"
      ]
    },
    {
      "cell_type": "code",
      "execution_count": null,
      "metadata": {
        "id": "8pxGp5ldrUTc",
        "outputId": "ca1621d8-a8c0-437a-fc60-c94c1d36a1b4"
      },
      "outputs": [
        {
          "name": "stdout",
          "output_type": "stream",
          "text": [
            "                          Order Date        Item ID       Quantity  \\\n",
            "count                         286392  286392.000000  286392.000000   \n",
            "mean   2021-03-12 11:18:32.008715264  741664.902131       3.011296   \n",
            "min              2020-10-01 00:00:00  574769.000000       1.000000   \n",
            "25%              2020-12-24 00:00:00  659684.500000       2.000000   \n",
            "50%              2021-03-16 00:00:00  742309.000000       2.000000   \n",
            "75%              2021-05-18 00:00:00  826124.250000       3.000000   \n",
            "max              2021-09-30 00:00:00  905208.000000     501.000000   \n",
            "std                              NaN   95746.031827       4.573837   \n",
            "\n",
            "               Price  Original Sale  Sale After Discount    Customer ID  \\\n",
            "count  286392.000000  286392.000000        286392.000000  286392.000000   \n",
            "mean      851.385253     885.879934           815.840507   70048.019054   \n",
            "min         0.000000       0.000000             0.000000       4.000000   \n",
            "25%        49.900000      49.900000            49.900000   56519.000000   \n",
            "50%       119.000000     158.970000           149.800000   74225.500000   \n",
            "75%       950.000000     910.000000           800.000000   92357.000000   \n",
            "max    101262.590000  101262.590000        101262.590000  115326.000000   \n",
            "std      1741.750751    2073.252179          1983.580302   30243.856395   \n",
            "\n",
            "                Year                          Month  Reference Number  \\\n",
            "count  286392.000000                         286392     286392.000000   \n",
            "mean     2020.618778  2021-02-23 08:13:32.134416896     560853.663395   \n",
            "min      2020.000000            2020-10-01 00:00:00     111127.000000   \n",
            "25%      2020.000000            2020-12-01 00:00:00     341265.000000   \n",
            "50%      2021.000000            2021-03-01 00:00:00     564857.000000   \n",
            "75%      2021.000000            2021-05-01 00:00:00     781086.000000   \n",
            "max      2021.000000            2021-09-01 00:00:00     999981.000000   \n",
            "std         0.485688                            NaN     255828.418398   \n",
            "\n",
            "                 Age                 Customer Since       Zip Code  \\\n",
            "count  286392.000000                         286392  286392.000000   \n",
            "mean       46.489033  2007-10-09 10:05:37.283164160   49723.160015   \n",
            "min        18.000000            1978-11-04 00:00:00     210.000000   \n",
            "25%        32.000000            2002-08-24 00:00:00   26571.750000   \n",
            "50%        47.000000            2010-03-22 00:00:00   49316.000000   \n",
            "75%        61.000000            2015-01-03 00:00:00   72645.000000   \n",
            "max        75.000000            2017-07-28 00:00:00   99950.000000   \n",
            "std        16.673288                            NaN   27597.198873   \n",
            "\n",
            "       Discount Percentage  \n",
            "count        286392.000000  \n",
            "mean              6.069079  \n",
            "min               0.000000  \n",
            "25%               0.000000  \n",
            "50%               0.000000  \n",
            "75%              11.000000  \n",
            "max              75.000000  \n",
            "std              10.100100  \n"
          ]
        }
      ],
      "source": [
        "print(onlinestore.describe())"
      ]
    },
    {
      "cell_type": "markdown",
      "metadata": {
        "id": "8uTUmJPrrUTd"
      },
      "source": [
        "## Check whether Order Date and Customer Since are datetime objects"
      ]
    },
    {
      "cell_type": "code",
      "execution_count": null,
      "metadata": {
        "id": "9vFs36AyrUTd",
        "outputId": "be54ac53-bea3-42e0-9643-9e16f72ab9b5"
      },
      "outputs": [
        {
          "name": "stdout",
          "output_type": "stream",
          "text": [
            "datetime64[ns]\n",
            "datetime64[ns]\n"
          ]
        }
      ],
      "source": [
        "# Original data types of Order Date and Customer Since\n",
        "print(onlinestore['Order Date'].dtype)\n",
        "print(onlinestore['Customer Since'].dtype)"
      ]
    },
    {
      "cell_type": "markdown",
      "metadata": {
        "id": "o9-N_YIbrUTd"
      },
      "source": [
        "## Descriptive Statistics"
      ]
    },
    {
      "cell_type": "code",
      "execution_count": null,
      "metadata": {
        "id": "u03r_UpnrUTd",
        "outputId": "d7644477-8175-49d7-9a67-ddc3bbbeab79"
      },
      "outputs": [
        {
          "name": "stdout",
          "output_type": "stream",
          "text": [
            "           Order ID                     Order Date    Status        Item ID  \\\n",
            "count      286392.0                         286392    286392  286392.000000   \n",
            "unique     201716.0                            NaN        13            NaN   \n",
            "top     100476608.0                            NaN  canceled            NaN   \n",
            "freq           43.0                            NaN    112166            NaN   \n",
            "mean            NaN  2021-03-12 11:18:32.008715264       NaN  741664.902131   \n",
            "min             NaN            2020-10-01 00:00:00       NaN  574769.000000   \n",
            "25%             NaN            2020-12-24 00:00:00       NaN  659684.500000   \n",
            "50%             NaN            2021-03-16 00:00:00       NaN  742309.000000   \n",
            "75%             NaN            2021-05-18 00:00:00       NaN  826124.250000   \n",
            "max             NaN            2021-09-30 00:00:00       NaN  905208.000000   \n",
            "std             NaN                            NaN       NaN   95746.031827   \n",
            "\n",
            "                        SKU       Quantity          Price  Original Sale  \\\n",
            "count                286392  286392.000000  286392.000000  286392.000000   \n",
            "unique                47932            NaN            NaN            NaN   \n",
            "top     MATSAM59DB75ADB2F80            NaN            NaN            NaN   \n",
            "freq                   3775            NaN            NaN            NaN   \n",
            "mean                    NaN       3.011296     851.385253     885.879934   \n",
            "min                     NaN       1.000000       0.000000       0.000000   \n",
            "25%                     NaN       2.000000      49.900000      49.900000   \n",
            "50%                     NaN       2.000000     119.000000     158.970000   \n",
            "75%                     NaN       3.000000     950.000000     910.000000   \n",
            "max                     NaN     501.000000  101262.590000  101262.590000   \n",
            "std                     NaN       4.573837    1741.750751    2073.252179   \n",
            "\n",
            "        Sale After Discount           Category  ...                   E Mail  \\\n",
            "count         286392.000000             286392  ...                   286392   \n",
            "unique                  NaN                 15  ...                    64246   \n",
            "top                     NaN  Mobiles & Tablets  ...  joel.gonzalez@yahoo.com   \n",
            "freq                    NaN              61761  ...                     2524   \n",
            "mean             815.840507                NaN  ...                      NaN   \n",
            "min                0.000000                NaN  ...                      NaN   \n",
            "25%               49.900000                NaN  ...                      NaN   \n",
            "50%              149.800000                NaN  ...                      NaN   \n",
            "75%              800.000000                NaN  ...                      NaN   \n",
            "max           101262.590000                NaN  ...                      NaN   \n",
            "std             1983.580302                NaN  ...                      NaN   \n",
            "\n",
            "                       Customer Since    Phone No.      County    City  \\\n",
            "count                          286392        286392     286392  286392   \n",
            "unique                            NaN         64248       2551   15892   \n",
            "top                               NaN  217-861-7640  Jefferson  Dekalb   \n",
            "freq                              NaN          2524       3510    2525   \n",
            "mean    2007-10-09 10:05:37.283164160           NaN        NaN     NaN   \n",
            "min               1978-11-04 00:00:00           NaN        NaN     NaN   \n",
            "25%               2002-08-24 00:00:00           NaN        NaN     NaN   \n",
            "50%               2010-03-22 00:00:00           NaN        NaN     NaN   \n",
            "75%               2015-01-03 00:00:00           NaN        NaN     NaN   \n",
            "max               2017-07-28 00:00:00           NaN        NaN     NaN   \n",
            "std                               NaN           NaN        NaN     NaN   \n",
            "\n",
            "         State       Zip Code  Region   User Name  Discount Percentage  \n",
            "count   286392  286392.000000  286392      286392        286392.000000  \n",
            "unique      51            NaN       4       64006                  NaN  \n",
            "top         TX            NaN   South  jugonzalez                  NaN  \n",
            "freq     17510            NaN  103482        2524                  NaN  \n",
            "mean       NaN   49723.160015     NaN         NaN             6.069079  \n",
            "min        NaN     210.000000     NaN         NaN             0.000000  \n",
            "25%        NaN   26571.750000     NaN         NaN             0.000000  \n",
            "50%        NaN   49316.000000     NaN         NaN             0.000000  \n",
            "75%        NaN   72645.000000     NaN         NaN            11.000000  \n",
            "max        NaN   99950.000000     NaN         NaN            75.000000  \n",
            "std        NaN   27597.198873     NaN         NaN            10.100100  \n",
            "\n",
            "[11 rows x 30 columns]\n"
          ]
        }
      ],
      "source": [
        "# describe the data to get some statistics\n",
        "data_description = onlinestore.describe(include='all')\n",
        "print(data_description)"
      ]
    },
    {
      "cell_type": "markdown",
      "metadata": {
        "id": "ffST2r73rUTe"
      },
      "source": [
        "## Check Duplicate Entries - No Duplicate"
      ]
    },
    {
      "cell_type": "code",
      "execution_count": null,
      "metadata": {
        "id": "H8kgfXk2rUTe",
        "outputId": "b7a35c1e-1e54-4da1-9c86-c31cf275d6b1"
      },
      "outputs": [
        {
          "name": "stdout",
          "output_type": "stream",
          "text": [
            "0\n"
          ]
        }
      ],
      "source": [
        "# Check for duplicate entries in the dataset\n",
        "duplicates = onlinestore.duplicated()\n",
        "\n",
        "# Count the number of duplicate rows\n",
        "number_of_duplicates = duplicates.sum()\n",
        "\n",
        "# Display the number of duplicate rows and return the duplicated rows if any\n",
        "print(number_of_duplicates)"
      ]
    },
    {
      "cell_type": "markdown",
      "metadata": {
        "id": "gXIfQrX-rUTf"
      },
      "source": [
        "## Check if the same city name exists in different states"
      ]
    },
    {
      "cell_type": "markdown",
      "metadata": {
        "id": "SwXSVq9trUTf"
      },
      "source": [
        "Yes, I have created a new column called 'City_State'."
      ]
    },
    {
      "cell_type": "code",
      "execution_count": null,
      "metadata": {
        "id": "T7hRhM7IrUTf",
        "outputId": "7ee0e36f-df18-4e4f-8e9e-bf2f9bc73f41"
      },
      "outputs": [
        {
          "name": "stdout",
          "output_type": "stream",
          "text": [
            "               City  State\n",
            "0              True      1\n",
            "1             Aaron      1\n",
            "2        Aaronsburg      1\n",
            "3         Abbeville      5\n",
            "4        Abbotsford      1\n",
            "...             ...    ...\n",
            "15887     Zullinger      1\n",
            "15888  Zumbro Falls      1\n",
            "15889          Zuni      2\n",
            "15890       Zwingle      1\n",
            "15891        Zwolle      1\n",
            "\n",
            "[15892 rows x 2 columns]\n",
            "             City  State\n",
            "3       Abbeville      5\n",
            "9        Aberdeen      6\n",
            "13        Abilene      2\n",
            "14       Abingdon      3\n",
            "15       Abington      2\n",
            "...           ...    ...\n",
            "15847       Yukon      4\n",
            "15849        Yuma      3\n",
            "15860  Zanesville      2\n",
            "15861      Zanoni      2\n",
            "15889        Zuni      2\n",
            "\n",
            "[3314 rows x 2 columns]\n"
          ]
        }
      ],
      "source": [
        "# Create a DataFrame to check if the same city name exists in different states\n",
        "city_state_df = onlinestore.groupby('City')['State'].nunique().reset_index(name='State')\n",
        "print(city_state_df)\n",
        "\n",
        "# Create a new DataFrame for cities that appear in more than one state\n",
        "state_city_df = city_state_df[city_state_df['State'] > 1]\n",
        "print(state_city_df)\n"
      ]
    },
    {
      "cell_type": "code",
      "execution_count": null,
      "metadata": {
        "id": "OWpXHzrxrUTf",
        "outputId": "2fbde8e1-bd78-454f-e933-abc29d781a70"
      },
      "outputs": [
        {
          "name": "stdout",
          "output_type": "stream",
          "text": [
            "object\n",
            "object\n",
            "         Order ID Order Date    Status  Item ID                    SKU  \\\n",
            "158490  100430701 2021-01-01  complete   703946  WOFGOL5A004C0B29D98-M   \n",
            "\n",
            "        Quantity  Price  Original Sale  Sale After Discount         Category  \\\n",
            "158490         2  249.9          249.9                249.9  Women's Fashion   \n",
            "\n",
            "        ...                       E Mail  Customer Since    Phone No.   \\\n",
            "158490  ...  zackary.kilburn@hotmail.com      2011-07-17  304-889-1104   \n",
            "\n",
            "         County  City State Zip Code Region  User Name  Discount Percentage  \n",
            "158490  Summers  True    WV    25988  South  zpkilburn                  0.0  \n",
            "\n",
            "[1 rows x 30 columns]\n",
            "Empty DataFrame\n",
            "Columns: [Order ID, Order Date, Status, Item ID, SKU, Quantity, Price, Original Sale, Sale After Discount, Category, Payment Method, Customer ID, Year, Month, Reference Number, Name Prefix, First Name, Last Name, Gender, Age, E Mail, Customer Since, Phone No. , County, City, State, Zip Code, Region, User Name, Discount Percentage]\n",
            "Index: []\n",
            "\n",
            "[0 rows x 30 columns]\n"
          ]
        }
      ],
      "source": [
        "#Check City and State datatypes\n",
        "print(onlinestore['City'].dtype)\n",
        "print(onlinestore['State'].dtype)\n",
        "\n",
        "#Check for boolean values in City and State columns\n",
        "print(onlinestore[onlinestore['City'].apply(lambda x: isinstance(x, bool))])\n",
        "print(onlinestore[onlinestore['State'].apply(lambda x: isinstance(x, bool))])"
      ]
    },
    {
      "cell_type": "code",
      "execution_count": null,
      "metadata": {
        "id": "2qtP2pEKrUTg",
        "outputId": "c1adf1bf-e408-42dd-e48f-008b9c7111d5"
      },
      "outputs": [
        {
          "name": "stdout",
          "output_type": "stream",
          "text": [
            "0    Vinson_OK\n",
            "1    Vinson_OK\n",
            "2    Vinson_OK\n",
            "3    Vinson_OK\n",
            "4    Vinson_OK\n",
            "Name: City_State, dtype: object\n"
          ]
        }
      ],
      "source": [
        "#Add a column to the dataset for City_Sate format\n",
        "onlinestore['City_State'] = onlinestore.apply(lambda x: str(x['City']) + '_' + str(x['State']).replace(' ', ''), axis=1)\n",
        "print(onlinestore['City_State'].head())"
      ]
    },
    {
      "cell_type": "markdown",
      "metadata": {
        "id": "XCI26BrfrUTg"
      },
      "source": [
        "## Check Missing Values in Dataset - None"
      ]
    },
    {
      "cell_type": "code",
      "execution_count": null,
      "metadata": {
        "id": "Ei_5Ah-4rUTh",
        "outputId": "f7ee0160-a821-41df-d148-6e2c044ff2a9"
      },
      "outputs": [
        {
          "name": "stdout",
          "output_type": "stream",
          "text": [
            "Order ID               0\n",
            "Order Date             0\n",
            "Status                 0\n",
            "Item ID                0\n",
            "SKU                    0\n",
            "Quantity               0\n",
            "Price                  0\n",
            "Original Sale          0\n",
            "Sale After Discount    0\n",
            "Category               0\n",
            "Payment Method         0\n",
            "Customer ID            0\n",
            "Year                   0\n",
            "Month                  0\n",
            "Reference Number       0\n",
            "Name Prefix            0\n",
            "First Name             0\n",
            "Last Name              0\n",
            "Gender                 0\n",
            "Age                    0\n",
            "E Mail                 0\n",
            "Customer Since         0\n",
            "Phone No.              0\n",
            "County                 0\n",
            "City                   0\n",
            "State                  0\n",
            "Zip Code               0\n",
            "Region                 0\n",
            "User Name              0\n",
            "Discount Percentage    0\n",
            "City_State             0\n",
            "dtype: int64\n"
          ]
        }
      ],
      "source": [
        "# Checking for missing values in the dataset\n",
        "missing_values = onlinestore.isnull().sum()\n",
        "print(missing_values)\n"
      ]
    },
    {
      "cell_type": "markdown",
      "metadata": {
        "id": "HjMCb6wmrUTh"
      },
      "source": [
        "## Check Null Values in Dataset - None"
      ]
    },
    {
      "cell_type": "code",
      "execution_count": null,
      "metadata": {
        "id": "I3KInp7JrUTh",
        "outputId": "a2035a54-eca7-439e-d110-a5bf1e094950"
      },
      "outputs": [
        {
          "name": "stdout",
          "output_type": "stream",
          "text": [
            "Order ID               0\n",
            "Order Date             0\n",
            "Status                 0\n",
            "Item ID                0\n",
            "SKU                    0\n",
            "Quantity               0\n",
            "Price                  0\n",
            "Original Sale          0\n",
            "Sale After Discount    0\n",
            "Category               0\n",
            "Payment Method         0\n",
            "Customer ID            0\n",
            "Year                   0\n",
            "Month                  0\n",
            "Reference Number       0\n",
            "Name Prefix            0\n",
            "First Name             0\n",
            "Last Name              0\n",
            "Gender                 0\n",
            "Age                    0\n",
            "E Mail                 0\n",
            "Customer Since         0\n",
            "Phone No.              0\n",
            "County                 0\n",
            "City                   0\n",
            "State                  0\n",
            "Zip Code               0\n",
            "Region                 0\n",
            "User Name              0\n",
            "Discount Percentage    0\n",
            "City_State             0\n",
            "dtype: int64\n"
          ]
        }
      ],
      "source": [
        "#Check null values in the dataset\n",
        "print(onlinestore.isnull().sum())\n"
      ]
    },
    {
      "cell_type": "markdown",
      "metadata": {
        "id": "8f5EDD4ZrUTi"
      },
      "source": [
        "# Check Outliers"
      ]
    },
    {
      "cell_type": "markdown",
      "metadata": {
        "id": "xTcGnjuYrUTi"
      },
      "source": [
        "## For Original Sale"
      ]
    },
    {
      "cell_type": "code",
      "execution_count": null,
      "metadata": {
        "id": "AaqBQg_QrUTi",
        "outputId": "b3d25604-ed87-4960-bf6d-40b9256c7f3f"
      },
      "outputs": [
        {
          "data": {
            "image/png": "[encoded data removed]",
            "text/plain": [
              "<Figure size 1000x600 with 1 Axes>"
            ]
          },
          "metadata": {},
          "output_type": "display_data"
        }
      ],
      "source": [
        "#generate the boxplot for the original sale column\n",
        "plt.figure(figsize=(10, 6))\n",
        "onlinestore.boxplot(column='Original Sale')\n",
        "plt.title('Boxplot of Original Sale')\n",
        "plt.ylabel('Original Sale')\n",
        "plt.show()"
      ]
    },
    {
      "cell_type": "code",
      "execution_count": null,
      "metadata": {
        "id": "oPDT4BHYrUTj",
        "outputId": "5246ba17-6f67-4d5a-d229-70a8157b869a"
      },
      "outputs": [
        {
          "data": {
            "text/plain": [
              "(-1240.25, 2200.15)"
            ]
          },
          "execution_count": 74,
          "metadata": {},
          "output_type": "execute_result"
        }
      ],
      "source": [
        "#calculate interquartile range for original sale\n",
        "Q1 = onlinestore['Original Sale'].quantile(0.25)\n",
        "Q3 = onlinestore['Original Sale'].quantile(0.75)\n",
        "IQR = Q3 - Q1\n",
        "\n",
        "# Defining the outlier cutoffs\n",
        "outlier_lower_bound = Q1 - 1.5 * IQR\n",
        "outlier_upper_bound = Q3 + 1.5 * IQR\n",
        "\n",
        "(outlier_lower_bound, outlier_upper_bound)\n"
      ]
    },
    {
      "cell_type": "code",
      "execution_count": null,
      "metadata": {
        "id": "S0R4TqvPrUTj",
        "outputId": "060921d2-fc8a-412b-8c2c-e420369b69a5"
      },
      "outputs": [
        {
          "data": {
            "image/png": "[encoded data removed]",
            "text/plain": [
              "<Figure size 1000x600 with 1 Axes>"
            ]
          },
          "metadata": {},
          "output_type": "display_data"
        }
      ],
      "source": [
        "#generate the distribution plot for the original sale column\n",
        "plt.figure(figsize=(10, 6))\n",
        "onlinestore['Original Sale'].plot(kind='hist', bins=20)\n",
        "plt.title('Distribution of Original Sale')\n",
        "plt.xlabel('Original Sale')\n",
        "plt.ylabel('Frequency')\n",
        "plt.show()"
      ]
    },
    {
      "cell_type": "code",
      "execution_count": null,
      "metadata": {
        "id": "V38GA5IErUTj",
        "outputId": "861e0c41-d2a8-477a-9cec-95fb84dc5f78"
      },
      "outputs": [
        {
          "name": "stdout",
          "output_type": "stream",
          "text": [
            "Number of outliers: 29133\n",
            "Total entries: 286392\n",
            "Proportion of outliers: 10.17%\n"
          ]
        }
      ],
      "source": [
        "#Calculate the number of the outlier and total entries in the dataset\n",
        "num_outliers = onlinestore[(onlinestore['Original Sale'] < outlier_lower_bound) | (onlinestore['Original Sale'] > outlier_upper_bound)]\n",
        "total_entries = onlinestore.shape[0]\n",
        "\n",
        "#Calculate the proportion of sales that are outliers\n",
        "proportion_outliers = num_outliers.shape[0] / total_entries\n",
        "\n",
        "#Round the proportion to three decimal places\n",
        "proportion_outliers = round(proportion_outliers*100, 3)\n",
        "\n",
        "#print the result\n",
        "print(f'Number of outliers: {num_outliers.shape[0]}')\n",
        "print(f'Total entries: {total_entries}')\n",
        "print(f'Proportion of outliers: {proportion_outliers:.2f}%')\n"
      ]
    },
    {
      "cell_type": "markdown",
      "metadata": {
        "id": "a5XfgE_lrUTk"
      },
      "source": [
        "## For Sale After Discount"
      ]
    },
    {
      "cell_type": "code",
      "execution_count": null,
      "metadata": {
        "id": "YlC0zeQfrUTk",
        "outputId": "f87d1cad-1021-4b0b-c7f0-82a976a53115"
      },
      "outputs": [
        {
          "data": {
            "image/png": "[encoded data removed]",
            "text/plain": [
              "<Figure size 1000x600 with 1 Axes>"
            ]
          },
          "metadata": {},
          "output_type": "display_data"
        }
      ],
      "source": [
        "#generate the boxplot for the Sale After Discount column\n",
        "plt.figure(figsize=(10, 6))\n",
        "onlinestore.boxplot(column='Sale After Discount')\n",
        "plt.title('Boxplot of Sale After Discount')\n",
        "plt.ylabel('Sale After Discount')\n",
        "plt.show()"
      ]
    },
    {
      "cell_type": "code",
      "execution_count": null,
      "metadata": {
        "id": "dkdgw37NrUTl",
        "outputId": "06484114-6cb5-4d6b-81a2-24c5f92c1fa5"
      },
      "outputs": [
        {
          "data": {
            "text/plain": [
              "(-1075.25, 1925.15)"
            ]
          },
          "execution_count": 78,
          "metadata": {},
          "output_type": "execute_result"
        }
      ],
      "source": [
        "#calculate interquartile range for Sale After Discount\n",
        "Q1 = onlinestore['Sale After Discount'].quantile(0.25)\n",
        "Q3 = onlinestore['Sale After Discount'].quantile(0.75)\n",
        "IQR = Q3 - Q1\n",
        "\n",
        "# Defining the outlier cutoffs\n",
        "outlier_lower_bound = Q1 - 1.5 * IQR\n",
        "outlier_upper_bound = Q3 + 1.5 * IQR\n",
        "\n",
        "(outlier_lower_bound, outlier_upper_bound)\n"
      ]
    },
    {
      "cell_type": "code",
      "execution_count": null,
      "metadata": {
        "id": "Rx0JTxyarUTl",
        "outputId": "e6a630a4-e21c-42ae-e64f-adbe992f2d06"
      },
      "outputs": [
        {
          "data": {
            "image/png": "[encoded data removed]",
            "text/plain": [
              "<Figure size 1000x600 with 1 Axes>"
            ]
          },
          "metadata": {},
          "output_type": "display_data"
        }
      ],
      "source": [
        "#generate the distribution plot for the Sale After Discount column\n",
        "plt.figure(figsize=(10, 6))\n",
        "onlinestore['Sale After Discount'].plot(kind='hist', bins=20)\n",
        "plt.title('Distribution of Sale After Discount')\n",
        "plt.xlabel('Sale After Discount')\n",
        "plt.ylabel('Frequency')\n",
        "plt.show()"
      ]
    },
    {
      "cell_type": "code",
      "execution_count": null,
      "metadata": {
        "id": "llfa6goErUTm",
        "outputId": "29c1274e-55ce-48e8-d55e-8bf74b928831"
      },
      "outputs": [
        {
          "name": "stdout",
          "output_type": "stream",
          "text": [
            "Number of outliers: 31011\n",
            "Total entries: 286392\n",
            "Proportion of outliers: 10.83%\n"
          ]
        }
      ],
      "source": [
        "#Calculate the number of the outlier and total entries in the dataset\n",
        "num_outliers = onlinestore[(onlinestore['Sale After Discount'] < outlier_lower_bound) | (onlinestore['Sale After Discount'] > outlier_upper_bound)]\n",
        "total_entries = onlinestore.shape[0]\n",
        "\n",
        "#Calculate the proportion of sales that are outliers\n",
        "proportion_outliers = num_outliers.shape[0] / total_entries\n",
        "\n",
        "#Round the proportion to three decimal places\n",
        "proportion_outliers = round(proportion_outliers*100, 3)\n",
        "\n",
        "#print the result\n",
        "print(f'Number of outliers: {num_outliers.shape[0]}')\n",
        "print(f'Total entries: {total_entries}')\n",
        "print(f'Proportion of outliers: {proportion_outliers:.2f}%')\n"
      ]
    },
    {
      "cell_type": "markdown",
      "metadata": {
        "id": "1WIye3airUTn"
      },
      "source": [
        "## Round the 'Discount Percentage', 'Price', 'Sale After Discount', and 'Original Sale' columns to 2 decimal points"
      ]
    },
    {
      "cell_type": "code",
      "execution_count": null,
      "metadata": {
        "id": "nt2LgqP9rUTn",
        "outputId": "f492c353-7fbc-4b97-a0b0-a6c3aff365de"
      },
      "outputs": [
        {
          "name": "stdout",
          "output_type": "stream",
          "text": [
            "    Order ID Order Date    Status  Item ID                  SKU  Quantity  \\\n",
            "0  100354678 2020-10-01  received   574772   oasis_Oasis-064-36        21   \n",
            "1  100354678 2020-10-01  received   574774      Fantastic_FT-48        11   \n",
            "2  100354680 2020-10-01  complete   574777      mdeal_DMC-610-8         9   \n",
            "3  100354680 2020-10-01  complete   574779   oasis_Oasis-061-36         9   \n",
            "4  100367357 2020-11-13  received   595185  MEFNAR59C38B6CA08CD         2   \n",
            "\n",
            "   Price  Original Sale  Sale After Discount       Category  ...  \\\n",
            "0   89.9         1798.0               1798.0  Men's Fashion  ...   \n",
            "1   19.0          190.0                190.0  Men's Fashion  ...   \n",
            "2  149.9         1199.2               1199.2  Men's Fashion  ...   \n",
            "3   79.9          639.2                639.2  Men's Fashion  ...   \n",
            "4   99.9           99.9                 99.9  Men's Fashion  ...   \n",
            "\n",
            "  Customer Since    Phone No.   County    City  State Zip Code Region  \\\n",
            "0     2006-08-22  405-959-1129  Harmon  Vinson     OK    73571  South   \n",
            "1     2006-08-22  405-959-1129  Harmon  Vinson     OK    73571  South   \n",
            "2     2006-08-22  405-959-1129  Harmon  Vinson     OK    73571  South   \n",
            "3     2006-08-22  405-959-1129  Harmon  Vinson     OK    73571  South   \n",
            "4     2006-08-22  405-959-1129  Harmon  Vinson     OK    73571  South   \n",
            "\n",
            "  User Name Discount Percentage  City_State  \n",
            "0   jwtitus                 0.0   Vinson_OK  \n",
            "1   jwtitus                 0.0   Vinson_OK  \n",
            "2   jwtitus                 0.0   Vinson_OK  \n",
            "3   jwtitus                 0.0   Vinson_OK  \n",
            "4   jwtitus                 0.0   Vinson_OK  \n",
            "\n",
            "[5 rows x 31 columns]\n"
          ]
        }
      ],
      "source": [
        "# Round the 'Discount Percentage', 'Price', 'Sale After Discount', and 'Original Sale' columns to 2 decimal points\n",
        "onlinestore[['Discount Percentage', 'Price', 'Sale After Discount', 'Original Sale']] = onlinestore[['Discount Percentage', 'Price', 'Sale After Discount', 'Original Sale']].round(2)\n",
        "\n",
        "\n",
        "# Display the first few rows to confirm the changes\n",
        "print(onlinestore.head())\n"
      ]
    },
    {
      "cell_type": "markdown",
      "metadata": {
        "id": "Mc3vqO-LrUTn"
      },
      "source": [
        "## Generate a unique payment ID"
      ]
    },
    {
      "cell_type": "code",
      "execution_count": null,
      "metadata": {
        "id": "4F4pm8hIrUTo",
        "outputId": "05c64c9d-4f09-445b-9d4a-bcf83dc15525"
      },
      "outputs": [
        {
          "name": "stdout",
          "output_type": "stream",
          "text": [
            "0    PAY-JWT-1\n",
            "1    PAY-JWT-2\n",
            "2    PAY-JWT-3\n",
            "3    PAY-JWT-4\n",
            "4    PAY-JWT-5\n",
            "Name: Payment ID, dtype: object\n"
          ]
        }
      ],
      "source": [
        "# Generate a payment ID with a prefix and a sequential number based on the 'User Name'\n",
        "def generate_payment_id_based_on_user_name(user_name, index):\n",
        "\n",
        "    # Use the row's index for the sequential part, ensuring uniqueness\n",
        "    return f'PAY-{user_name[:3].upper()}-{index + 1}'\n",
        "\n",
        "# Use the 'User Name' and the row index to generate shipment IDs\n",
        "onlinestore['Payment ID'] = onlinestore.apply(lambda x: generate_payment_id_based_on_user_name(x['User Name'], x.name), axis=1)\n",
        "\n",
        "# Display the first few Payment IDs to confirm the format is based on 'User Name'\n",
        "print(onlinestore['Payment ID'].head())"
      ]
    },
    {
      "cell_type": "markdown",
      "metadata": {
        "id": "2-OelDXKrUTp"
      },
      "source": [
        "## For column named Month, reformat it instead of OCT-20, we need OCT"
      ]
    },
    {
      "cell_type": "code",
      "execution_count": null,
      "metadata": {
        "id": "5Eri1w1prUTp",
        "outputId": "ae01ce3d-0ce2-4ac4-f44e-b4ddd35493be"
      },
      "outputs": [
        {
          "name": "stdout",
          "output_type": "stream",
          "text": [
            "0    OCT\n",
            "1    OCT\n",
            "2    OCT\n",
            "3    OCT\n",
            "4    NOV\n",
            "Name: Month, dtype: object\n"
          ]
        }
      ],
      "source": [
        "# Format the 'Month' column to display only the month abbreviation from the Timestamp\n",
        "onlinestore['Month'] = onlinestore['Month'].apply(lambda x: x.strftime('%b').upper())\n",
        "\n",
        "\n",
        "# Display the first few rows to confirm the changes\n",
        "print(onlinestore['Month'].head())"
      ]
    },
    {
      "cell_type": "code",
      "execution_count": null,
      "metadata": {
        "id": "cDs29Dq2rUTq",
        "outputId": "8b512f5d-ad8a-4ee3-89e5-a98847d5bec9"
      },
      "outputs": [
        {
          "name": "stdout",
          "output_type": "stream",
          "text": [
            "0\n"
          ]
        }
      ],
      "source": [
        "#Check duplicate entries in the dataset\n",
        "duplicates = onlinestore.duplicated()\n",
        "\n",
        "# Count the number of duplicate rows\n",
        "number_of_duplicates = duplicates.sum()\n",
        "\n",
        "# Display the number of duplicate rows and return the duplicated rows if any\n",
        "print(number_of_duplicates)\n"
      ]
    },
    {
      "cell_type": "markdown",
      "metadata": {
        "id": "_MkcXc8OrUTr"
      },
      "source": [
        "# Saved to a new Excel file"
      ]
    },
    {
      "cell_type": "code",
      "execution_count": null,
      "metadata": {
        "id": "WAFVd1DqrUTr"
      },
      "outputs": [],
      "source": [
        "# Define the path for the new Excel file\n",
        "new_file_path = r'C:\\Users\\Administrator\\Desktop\\OnlineStore_Cleaned.xlsx'\n",
        "\n",
        "# Save the cleaned dataset to a new Excel file\n",
        "onlinestore.to_excel(new_file_path, index=False)\n",
        "\n"
      ]
    }
  ],
  "metadata": {
    "kernelspec": {
      "display_name": "Python 3",
      "language": "python",
      "name": "python3"
    },
    "language_info": {
      "codemirror_mode": {
        "name": "ipython",
        "version": 3
      },
      "file_extension": ".py",
      "mimetype": "text/x-python",
      "name": "python",
      "nbconvert_exporter": "python",
      "pygments_lexer": "ipython3",
      "version": "3.10.9"
    },
    "colab": {
      "provenance": [],
      "include_colab_link": true
    }
  },
  "nbformat": 4,
  "nbformat_minor": 0
}